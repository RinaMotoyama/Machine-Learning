{
 "cells": [
  {
   "attachments": {},
   "cell_type": "markdown",
   "metadata": {},
   "source": [
    "1.7.1 アイリスのクラス分類を参考に猫の顔分類について考える"
   ]
  },
  {
   "attachments": {},
   "cell_type": "markdown",
   "metadata": {},
   "source": [
    "Memo：\n",
    "\n",
    "複数の選択肢の中から、1つを選ぶような問題は「クラス分類」\n",
    "\n",
    "出力（猫やアイリスの種類）は「クラス」と呼ばれる\n",
    "\n",
    "猫の場合は2つのクラス（野良猫、飼い猫）のうちの1つに属するので、「2クラス分類」であるといえる"
   ]
  },
  {
   "attachments": {},
   "cell_type": "markdown",
   "metadata": {},
   "source": [
    "特徴量をリストで出さなければいけない\n",
    "\n",
    "[耳の長さ、耳の幅、目の長さ、目の幅]\n",
    "\n",
    "[5,3,1,1.5]\n",
    "\n",
    "[6,2,4,2]\n",
    "\n",
    "みたいな\n",
    "\n",
    "でも種類で違うから、比率のほうがいい？\n"
   ]
  },
  {
   "attachments": {},
   "cell_type": "markdown",
   "metadata": {},
   "source": [
    "Xに特徴量を入れる\n",
    "\n",
    "yにそれがどちらの猫かのラベルを入れる。正解番号的な\n"
   ]
  },
  {
   "attachments": {},
   "cell_type": "markdown",
   "metadata": {},
   "source": []
  }
 ],
 "metadata": {
  "language_info": {
   "name": "python"
  },
  "orig_nbformat": 4
 },
 "nbformat": 4,
 "nbformat_minor": 2
}
